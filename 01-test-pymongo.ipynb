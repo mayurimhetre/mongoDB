{
 "cells": [
  {
   "cell_type": "code",
   "execution_count": 7,
   "id": "d536efae",
   "metadata": {},
   "outputs": [
    {
     "name": "stdout",
     "output_type": "stream",
     "text": [
      "Setting up mongo client\n",
      "Connecting to database ...\n"
     ]
    }
   ],
   "source": [
    "import pymongo\n",
    "\n",
    "print(\"Setting up mongo client\")\n",
    "\n",
    "client = pymongo.MongoClient(\"localhost\", port_no)\n",
    "\n",
    "print(\"Connecting to database ...\")\n",
    "\n",
    "# set our database to \"cooker\"\n",
    "db = client.learning\n",
    "\n",
    "database_name = db.name"
   ]
  },
  {
   "cell_type": "code",
   "execution_count": 8,
   "id": "a115b362",
   "metadata": {},
   "outputs": [
    {
     "data": {
      "text/plain": [
       "Database(MongoClient(host=['localhost:27017'], document_class=dict, tz_aware=False, connect=True), 'learning')"
      ]
     },
     "execution_count": 8,
     "metadata": {},
     "output_type": "execute_result"
    }
   ],
   "source": [
    "db"
   ]
  },
  {
   "cell_type": "code",
   "execution_count": 9,
   "id": "c4d72399",
   "metadata": {},
   "outputs": [
    {
     "data": {
      "text/plain": [
       "'learning'"
      ]
     },
     "execution_count": 9,
     "metadata": {},
     "output_type": "execute_result"
    }
   ],
   "source": [
    "db.name"
   ]
  },
  {
   "cell_type": "code",
   "execution_count": 13,
   "id": "a5078fb3",
   "metadata": {},
   "outputs": [
    {
     "name": "stdout",
     "output_type": "stream",
     "text": [
      "Apple Pie\n",
      "Brown Sugar Meatloaf\n",
      "Chicken Soft Tacos\n",
      "Maple Smoked Salmon\n",
      "Pancakes\n"
     ]
    }
   ],
   "source": [
    "for i in db.recipes.find().sort(\"title\").limit(5):\n",
    "    print(i[\"title\"])"
   ]
  },
  {
   "cell_type": "code",
   "execution_count": 16,
   "id": "3603122f",
   "metadata": {},
   "outputs": [
    {
     "name": "stdout",
     "output_type": "stream",
     "text": [
      "Brown Sugar Meatloaf 60\n",
      "Apple Pie 45\n",
      "Zucchini Brownies 32\n",
      "Tacos 20\n",
      "Maple Smoked Salmon 20\n"
     ]
    }
   ],
   "source": [
    "for i in db.recipes.find().sort(\"cook_time\",pymongo.DESCENDING).limit(5):\n",
    "    print(i[\"title\"] ,i[\"cook_time\"])"
   ]
  },
  {
   "cell_type": "code",
   "execution_count": null,
   "id": "d28be6b4",
   "metadata": {},
   "outputs": [],
   "source": []
  }
 ],
 "metadata": {
  "kernelspec": {
   "display_name": "Python 3 (ipykernel)",
   "language": "python",
   "name": "python3"
  },
  "language_info": {
   "codemirror_mode": {
    "name": "ipython",
    "version": 3
   },
   "file_extension": ".py",
   "mimetype": "text/x-python",
   "name": "python",
   "nbconvert_exporter": "python",
   "pygments_lexer": "ipython3",
   "version": "3.10.0"
  }
 },
 "nbformat": 4,
 "nbformat_minor": 5
}
